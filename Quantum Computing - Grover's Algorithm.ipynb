{
 "cells": [
  {
   "cell_type": "code",
   "execution_count": null,
   "id": "07181c4c-adc3-42c2-b384-c50ee7fc37ae",
   "metadata": {},
   "outputs": [
    {
     "name": "stdout",
     "output_type": "stream",
     "text": [
      "     ┌───┐    ░ ┌───┐┌───┐   ┌───┐┌───┐ ░ ┌─┐   \n",
      "q_0: ┤ H ├─■──░─┤ H ├┤ X ├─■─┤ X ├┤ H ├─░─┤M├───\n",
      "     ├───┤ │  ░ ├───┤├───┤ │ ├───┤├───┤ ░ └╥┘┌─┐\n",
      "q_1: ┤ H ├─■──░─┤ H ├┤ X ├─■─┤ X ├┤ H ├─░──╫─┤M├\n",
      "     └───┘    ░ └───┘└───┘   └───┘└───┘ ░  ║ └╥┘\n",
      "c: 2/══════════════════════════════════════╩══╩═\n",
      "                                           0  1 \n"
     ]
    }
   ],
   "source": [
    "import numpy as np\n",
    "from qiskit_ibm_runtime import QiskitRuntimeService, Sampler, Session\n",
    "from qiskit.visualization import plot_histogram\n",
    "from qiskit import QuantumCircuit, transpile\n",
    "from qiskit_aer import Aer\n",
    "\n",
    "my_token = \"17d69979f69d8a1c1c3577d0416e88526a1ae3592b880bc2d13c58463880cfba102a7ccdbe99cdbd62c8a9e1546897973fa6a73d00e43455edb7fb0cb8fb0e9b\"\n",
    "\n",
    "def create_superposition(qc, qubits):\n",
    "    \"\"\"Applies Hadamard gates to place qubits into superposition.\"\"\"\n",
    "    for q in qubits:\n",
    "        qc.h(q)\n",
    "\n",
    "def oracle(qc):\n",
    "    \"\"\"Implements the oracle for marking the |11> state with a phase flip.\"\"\"\n",
    "    qc.cz(0, 1)  # Phase flip when both qubits are |1>\n",
    "    qc.barrier()\n",
    "\n",
    "def diffuser(qc):\n",
    "    \"\"\"Implements the quantum diffusion (amplitude amplification).\"\"\"\n",
    "    qc.h([0, 1])  # Step 1: Apply Hadamard\n",
    "    qc.x([0, 1])  # Step 2: Apply X-gates (inversion about zero)\n",
    "    qc.cz(0, 1)   # Step 3: Controlled-Z (inversion about mean)\n",
    "    qc.x([0, 1])  # Step 4: Apply X-gates again\n",
    "    qc.h([0, 1])  # Step 5: Apply Hadamard again\n",
    "    qc.barrier()\n",
    "\n",
    "def grover_circuit():\n",
    "    \"\"\"Constructs the complete Grover search circuit.\"\"\"\n",
    "    qc = QuantumCircuit(2, 2)\n",
    "\n",
    "    # Step 1: Initialize in Superposition\n",
    "    create_superposition(qc, [0, 1])\n",
    "\n",
    "    # Step 2: Apply Oracle\n",
    "    oracle(qc)\n",
    "\n",
    "    # Step 3: Apply Diffuser\n",
    "    diffuser(qc)\n",
    "\n",
    "    # Step 4: Measure the qubits\n",
    "    qc.measure([0, 1], [0, 1])\n",
    "\n",
    "    return qc\n",
    "\n",
    "def run_on_ibm(qc):\n",
    "    \"\"\"Runs the circuit on IBM Quantum Experience using Sampler.\"\"\"\n",
    "    service = QiskitRuntimeService(channel=\"ibm_quantum\", token=my_token)\n",
    "    backend = service.backend(\"ibm_brisbane\")  # Ensure the backend is available\n",
    "\n",
    "    # Transpile the circuit for the backend\n",
    "    transpiled_qc = transpile(qc, backend)\n",
    "\n",
    "    # Use IBM Quantum session\n",
    "    with Session(backend=backend):\n",
    "        sampler = Sampler()\n",
    "        job = sampler.run([transpiled_qc])  # Pass as a list\n",
    "        result = job.result()\n",
    "\n",
    "    # Print the result object\n",
    "    print(\"Result object:\", result)\n",
    "    print(\"Available attributes:\", dir(result))\n",
    "\n",
    "\n",
    "\n",
    "# Generate and visualize the quantum circuit\n",
    "qc = grover_circuit()\n",
    "print(qc.draw())  # Print quantum circuit diagram\n",
    "\n",
    "# Run on IBM Quantum Simulator\n",
    "run_on_ibm(qc)\n"
   ]
  },
  {
   "cell_type": "code",
   "execution_count": null,
   "id": "fffabf6d-c3a4-4167-8031-809f848f961b",
   "metadata": {},
   "outputs": [],
   "source": [
    "# 17d69979f69d8a1c1c3577d0416e88526a1ae3592b880bc2d13c58463880cfba102a7ccdbe99cdbd62c8a9e1546897973fa6a73d00e43455edb7fb0cb8fb0e9b"
   ]
  },
  {
   "cell_type": "code",
   "execution_count": 7,
   "id": "b4d7701d-8058-4c7e-ad4d-4ad025e9fbb6",
   "metadata": {},
   "outputs": [
    {
     "name": "stdout",
     "output_type": "stream",
     "text": [
      "[<IBMBackend('ibm_brisbane')>, <IBMBackend('ibm_kyiv')>, <IBMBackend('ibm_sherbrooke')>]\n"
     ]
    }
   ],
   "source": [
    "# Authenticate\n",
    "service = QiskitRuntimeService(channel=\"ibm_quantum\", token=my_token)\n",
    "# Print available backends\n",
    "print(service.backends())"
   ]
  },
  {
   "cell_type": "code",
   "execution_count": null,
   "id": "a83783d0-a78c-4c23-9d98-38f1a0f10f28",
   "metadata": {},
   "outputs": [],
   "source": []
  }
 ],
 "metadata": {
  "kernelspec": {
   "display_name": "Python 3 (ipykernel)",
   "language": "python",
   "name": "python3"
  },
  "language_info": {
   "codemirror_mode": {
    "name": "ipython",
    "version": 3
   },
   "file_extension": ".py",
   "mimetype": "text/x-python",
   "name": "python",
   "nbconvert_exporter": "python",
   "pygments_lexer": "ipython3",
   "version": "3.12.9"
  }
 },
 "nbformat": 4,
 "nbformat_minor": 5
}
