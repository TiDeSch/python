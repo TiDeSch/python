{
 "cells": [
  {
   "cell_type": "code",
   "execution_count": 13,
   "id": "460d5dfb-ad9e-4b6c-9db3-f5bffd408e3b",
   "metadata": {},
   "outputs": [],
   "source": [
    "#initialization\n",
    "import matplotlib.pyplot as plt\n",
    "import numpy as np\n",
    "import math\n",
    "from matplotlib import colors\n",
    "from matplotlib.ticker import PercentFormatter"
   ]
  },
  {
   "cell_type": "code",
   "execution_count": 71,
   "id": "c935bd49-a7cb-43a2-ac23-2dbea54c3ff7",
   "metadata": {},
   "outputs": [],
   "source": [
    "from qiskit import QuantumCircuit, ClassicalRegister, QuantumRegister\n",
    "# import basic plot tools and circuits\n",
    "from qiskit.visualization import plot_histogram\n",
    "from qiskit.circuit.library import QFT\n",
    "\n",
    "from qiskit_aer import Aer  # For local simulation\n",
    "from qiskit_ibm_runtime import QiskitRuntimeService  # For IBM Quantum cloud access\n",
    "from qiskit.compiler import transpile, assemble  # For circuit compilation\n",
    "from qiskit.transpiler.preset_passmanagers import generate_preset_pass_manager\n",
    "from qiskit_ibm_runtime import SamplerV2 as Sampler\n",
    "from qiskit_ibm_runtime.fake_provider import FakeManilaV2\n"
   ]
  },
  {
   "cell_type": "code",
   "execution_count": 4,
   "id": "4692921f-9aae-45a2-ae5d-88bafb82cde0",
   "metadata": {},
   "outputs": [
    {
     "data": {
      "text/html": [
       "<pre style=\"word-wrap: normal;white-space: pre;background: #fff0;line-height: 1.1;font-family: &quot;Courier New&quot;,Courier,monospace\">          \n",
       "q_0: ─────\n",
       "          \n",
       "q_1: ─────\n",
       "          \n",
       "q_2: ─────\n",
       "     ┌───┐\n",
       "q_3: ┤ X ├\n",
       "     └───┘\n",
       "c: 3/═════\n",
       "          </pre>"
      ],
      "text/plain": [
       "          \n",
       "q_0: ─────\n",
       "          \n",
       "q_1: ─────\n",
       "          \n",
       "q_2: ─────\n",
       "     ┌───┐\n",
       "q_3: ┤ X ├\n",
       "     └───┘\n",
       "c: 3/═════\n",
       "          "
      ]
     },
     "execution_count": 4,
     "metadata": {},
     "output_type": "execute_result"
    }
   ],
   "source": [
    "qpe = QuantumCircuit(4, 3)\n",
    "qpe.x(3)\n",
    "qpe.draw()"
   ]
  },
  {
   "cell_type": "code",
   "execution_count": 5,
   "id": "5eb4170d-804f-4ff7-b2f6-080739c73c3c",
   "metadata": {},
   "outputs": [
    {
     "data": {
      "text/html": [
       "<pre style=\"word-wrap: normal;white-space: pre;background: #fff0;line-height: 1.1;font-family: &quot;Courier New&quot;,Courier,monospace\">     ┌───┐\n",
       "q_0: ┤ H ├\n",
       "     ├───┤\n",
       "q_1: ┤ H ├\n",
       "     ├───┤\n",
       "q_2: ┤ H ├\n",
       "     ├───┤\n",
       "q_3: ┤ X ├\n",
       "     └───┘\n",
       "c: 3/═════\n",
       "          </pre>"
      ],
      "text/plain": [
       "     ┌───┐\n",
       "q_0: ┤ H ├\n",
       "     ├───┤\n",
       "q_1: ┤ H ├\n",
       "     ├───┤\n",
       "q_2: ┤ H ├\n",
       "     ├───┤\n",
       "q_3: ┤ X ├\n",
       "     └───┘\n",
       "c: 3/═════\n",
       "          "
      ]
     },
     "execution_count": 5,
     "metadata": {},
     "output_type": "execute_result"
    }
   ],
   "source": [
    "for qubit in range(3):\n",
    "    qpe.h(qubit)\n",
    "qpe.draw()"
   ]
  },
  {
   "cell_type": "code",
   "execution_count": 6,
   "id": "61d29954-5b31-4ae7-9cde-4ae3753f1a8c",
   "metadata": {},
   "outputs": [
    {
     "data": {
      "text/html": [
       "<pre style=\"word-wrap: normal;white-space: pre;background: #fff0;line-height: 1.1;font-family: &quot;Courier New&quot;,Courier,monospace\">     ┌───┐                                                               \n",
       "q_0: ┤ H ├─■─────────────────────────────────────────────────────────────\n",
       "     ├───┤ │                                                             \n",
       "q_1: ┤ H ├─┼────────■────────■───────────────────────────────────────────\n",
       "     ├───┤ │        │        │                                           \n",
       "q_2: ┤ H ├─┼────────┼────────┼────────■────────■────────■────────■───────\n",
       "     ├───┤ │P(π/4)  │P(π/4)  │P(π/4)  │P(π/4)  │P(π/4)  │P(π/4)  │P(π/4) \n",
       "q_3: ┤ X ├─■────────■────────■────────■────────■────────■────────■───────\n",
       "     └───┘                                                               \n",
       "c: 3/════════════════════════════════════════════════════════════════════\n",
       "                                                                         </pre>"
      ],
      "text/plain": [
       "     ┌───┐                                                               \n",
       "q_0: ┤ H ├─■─────────────────────────────────────────────────────────────\n",
       "     ├───┤ │                                                             \n",
       "q_1: ┤ H ├─┼────────■────────■───────────────────────────────────────────\n",
       "     ├───┤ │        │        │                                           \n",
       "q_2: ┤ H ├─┼────────┼────────┼────────■────────■────────■────────■───────\n",
       "     ├───┤ │P(π/4)  │P(π/4)  │P(π/4)  │P(π/4)  │P(π/4)  │P(π/4)  │P(π/4) \n",
       "q_3: ┤ X ├─■────────■────────■────────■────────■────────■────────■───────\n",
       "     └───┘                                                               \n",
       "c: 3/════════════════════════════════════════════════════════════════════\n",
       "                                                                         "
      ]
     },
     "execution_count": 6,
     "metadata": {},
     "output_type": "execute_result"
    }
   ],
   "source": [
    "repetitions = 1\n",
    "for counting_qubit in range(3):\n",
    "    for i in range(repetitions):\n",
    "        qpe.cp(math.pi/4, counting_qubit, 3); # controlled-T\n",
    "    repetitions *= 2\n",
    "qpe.draw()"
   ]
  },
  {
   "cell_type": "code",
   "execution_count": 7,
   "id": "5c458f0b-09f3-4b62-9de2-5ba4e663c99e",
   "metadata": {},
   "outputs": [
    {
     "data": {
      "text/html": [
       "<pre style=\"word-wrap: normal;white-space: pre;background: #fff0;line-height: 1.1;font-family: &quot;Courier New&quot;,Courier,monospace\">     ┌───┐                                                                ░ »\n",
       "q_0: ┤ H ├─■──────────────────────────────────────────────────────────────░─»\n",
       "     ├───┤ │                                                              ░ »\n",
       "q_1: ┤ H ├─┼────────■────────■────────────────────────────────────────────░─»\n",
       "     ├───┤ │        │        │                                            ░ »\n",
       "q_2: ┤ H ├─┼────────┼────────┼────────■────────■────────■────────■────────░─»\n",
       "     ├───┤ │P(π/4)  │P(π/4)  │P(π/4)  │P(π/4)  │P(π/4)  │P(π/4)  │P(π/4)  ░ »\n",
       "q_3: ┤ X ├─■────────■────────■────────■────────■────────■────────■────────░─»\n",
       "     └───┘                                                                ░ »\n",
       "c: 3/═══════════════════════════════════════════════════════════════════════»\n",
       "                                                                            »\n",
       "«     ┌──────────┐ ░ ┌─┐      \n",
       "«q_0: ┤0         ├─░─┤M├──────\n",
       "«     │          │ ░ └╥┘┌─┐   \n",
       "«q_1: ┤1 IQFT_dg ├─░──╫─┤M├───\n",
       "«     │          │ ░  ║ └╥┘┌─┐\n",
       "«q_2: ┤2         ├─░──╫──╫─┤M├\n",
       "«     └──────────┘ ░  ║  ║ └╥┘\n",
       "«q_3: ─────────────░──╫──╫──╫─\n",
       "«                  ░  ║  ║  ║ \n",
       "«c: 3/════════════════╩══╩══╩═\n",
       "«                     0  1  2 </pre>"
      ],
      "text/plain": [
       "     ┌───┐                                                                ░ »\n",
       "q_0: ┤ H ├─■──────────────────────────────────────────────────────────────░─»\n",
       "     ├───┤ │                                                              ░ »\n",
       "q_1: ┤ H ├─┼────────■────────■────────────────────────────────────────────░─»\n",
       "     ├───┤ │        │        │                                            ░ »\n",
       "q_2: ┤ H ├─┼────────┼────────┼────────■────────■────────■────────■────────░─»\n",
       "     ├───┤ │P(π/4)  │P(π/4)  │P(π/4)  │P(π/4)  │P(π/4)  │P(π/4)  │P(π/4)  ░ »\n",
       "q_3: ┤ X ├─■────────■────────■────────■────────■────────■────────■────────░─»\n",
       "     └───┘                                                                ░ »\n",
       "c: 3/═══════════════════════════════════════════════════════════════════════»\n",
       "                                                                            »\n",
       "«     ┌──────────┐ ░ ┌─┐      \n",
       "«q_0: ┤0         ├─░─┤M├──────\n",
       "«     │          │ ░ └╥┘┌─┐   \n",
       "«q_1: ┤1 IQFT_dg ├─░──╫─┤M├───\n",
       "«     │          │ ░  ║ └╥┘┌─┐\n",
       "«q_2: ┤2         ├─░──╫──╫─┤M├\n",
       "«     └──────────┘ ░  ║  ║ └╥┘\n",
       "«q_3: ─────────────░──╫──╫──╫─\n",
       "«                  ░  ║  ║  ║ \n",
       "«c: 3/════════════════╩══╩══╩═\n",
       "«                     0  1  2 "
      ]
     },
     "execution_count": 7,
     "metadata": {},
     "output_type": "execute_result"
    }
   ],
   "source": [
    "qpe.barrier()\n",
    "# Apply inverse QFT\n",
    "qpe = qpe.compose(QFT(3, inverse=True), [0,1,2])\n",
    "# Measure\n",
    "qpe.barrier()\n",
    "for n in range(3):\n",
    "    qpe.measure(n,n)\n",
    "\n",
    "qpe.draw()"
   ]
  },
  {
   "cell_type": "code",
   "execution_count": 18,
   "id": "11891bd7-98b9-4e91-b817-118fb0f5293b",
   "metadata": {},
   "outputs": [
    {
     "name": "stdout",
     "output_type": "stream",
     "text": [
      "<class 'matplotlib.axes._axes.Axes'>\n"
     ]
    }
   ],
   "source": [
    "print(type(axs)) "
   ]
  },
  {
   "cell_type": "code",
   "execution_count": 24,
   "id": "05bfc379-a037-4f56-8716-222d64ee2e4e",
   "metadata": {},
   "outputs": [
    {
     "data": {
      "image/png": "[encoded data removed]",
      "text/plain": [
       "<Figure size 640x480 with 1 Axes>"
      ]
     },
     "metadata": {},
     "output_type": "display_data"
    }
   ],
   "source": [
    "aer_sim = Aer.get_backend('aer_simulator')\n",
    "shots = 2048\n",
    "t_qpe = transpile(qpe, aer_sim)\n",
    "results = aer_sim.run(t_qpe, shots=shots).result()\n",
    "answer = results.get_counts()\n",
    "\n",
    " \n",
    "# Plotting a basic histogram\n",
    "plt.hist(answer, bins=3, color='black', edgecolor='black')\n",
    "# Adding labels and title\n",
    "plt.xlabel('Decimal binary')\n",
    "plt.ylabel('Frequency')\n",
    "plt.title('Phase measuring 2048 measurements')\n",
    "plt.savefig(\"squares.eps\") \n",
    "# Display the plot\n",
    "plt.show()"
   ]
  },
  {
   "cell_type": "code",
   "execution_count": 33,
   "id": "c64f3b12-ce1b-4dad-9e41-02e8562fc7e3",
   "metadata": {},
   "outputs": [
    {
     "data": {
      "text/html": [
       "<pre style=\"word-wrap: normal;white-space: pre;background: #fff0;line-height: 1.1;font-family: &quot;Courier New&quot;,Courier,monospace\">     ┌───┐                                                            »\n",
       "q_0: ┤ H ├─■──────────────────────────────────────────────────────────»\n",
       "     ├───┤ │                                                          »\n",
       "q_1: ┤ H ├─┼─────────■─────────■──────────────────────────────────────»\n",
       "     ├───┤ │         │         │                                      »\n",
       "q_2: ┤ H ├─┼─────────┼─────────┼─────────■─────────■─────────■────────»\n",
       "     ├───┤ │P(2π/3)  │P(2π/3)  │P(2π/3)  │P(2π/3)  │P(2π/3)  │P(2π/3) »\n",
       "q_3: ┤ X ├─■─────────■─────────■─────────■─────────■─────────■────────»\n",
       "     └───┘                                                            »\n",
       "c: 3/═════════════════════════════════════════════════════════════════»\n",
       "                                                                      »\n",
       "«               ┌──────────┐┌─┐      \n",
       "«q_0: ──────────┤0         ├┤M├──────\n",
       "«               │          │└╥┘┌─┐   \n",
       "«q_1: ──────────┤1 IQFT_dg ├─╫─┤M├───\n",
       "«               │          │ ║ └╥┘┌─┐\n",
       "«q_2: ─■────────┤2         ├─╫──╫─┤M├\n",
       "«      │P(2π/3) └──────────┘ ║  ║ └╥┘\n",
       "«q_3: ─■─────────────────────╫──╫──╫─\n",
       "«                            ║  ║  ║ \n",
       "«c: 3/═══════════════════════╩══╩══╩═\n",
       "«                            0  1  2 </pre>"
      ],
      "text/plain": [
       "     ┌───┐                                                            »\n",
       "q_0: ┤ H ├─■──────────────────────────────────────────────────────────»\n",
       "     ├───┤ │                                                          »\n",
       "q_1: ┤ H ├─┼─────────■─────────■──────────────────────────────────────»\n",
       "     ├───┤ │         │         │                                      »\n",
       "q_2: ┤ H ├─┼─────────┼─────────┼─────────■─────────■─────────■────────»\n",
       "     ├───┤ │P(2π/3)  │P(2π/3)  │P(2π/3)  │P(2π/3)  │P(2π/3)  │P(2π/3) »\n",
       "q_3: ┤ X ├─■─────────■─────────■─────────■─────────■─────────■────────»\n",
       "     └───┘                                                            »\n",
       "c: 3/═════════════════════════════════════════════════════════════════»\n",
       "                                                                      »\n",
       "«               ┌──────────┐┌─┐      \n",
       "«q_0: ──────────┤0         ├┤M├──────\n",
       "«               │          │└╥┘┌─┐   \n",
       "«q_1: ──────────┤1 IQFT_dg ├─╫─┤M├───\n",
       "«               │          │ ║ └╥┘┌─┐\n",
       "«q_2: ─■────────┤2         ├─╫──╫─┤M├\n",
       "«      │P(2π/3) └──────────┘ ║  ║ └╥┘\n",
       "«q_3: ─■─────────────────────╫──╫──╫─\n",
       "«                            ║  ║  ║ \n",
       "«c: 3/═══════════════════════╩══╩══╩═\n",
       "«                            0  1  2 "
      ]
     },
     "execution_count": 33,
     "metadata": {},
     "output_type": "execute_result"
    }
   ],
   "source": [
    "# Create and set up circuit\n",
    "qpe2 = QuantumCircuit(4, 3)\n",
    "\n",
    "# Apply H-Gates to counting qubits:\n",
    "for qubit in range(3):\n",
    "    qpe2.h(qubit)\n",
    "\n",
    "# Prepare our eigenstate |psi>:\n",
    "qpe2.x(3)\n",
    "\n",
    "# Do the controlled-U operations:\n",
    "angle = 2*math.pi/3\n",
    "repetitions = 1\n",
    "for counting_qubit in range(3):\n",
    "    for i in range(repetitions):\n",
    "        qpe2.cp(angle, counting_qubit, 3);\n",
    "    repetitions *= 2\n",
    "\n",
    "# Do the inverse QFT:\n",
    "qpe2 = qpe2.compose(QFT(3, inverse=True), [0,1,2])\n",
    "\n",
    "# Measure of course!\n",
    "for n in range(3):\n",
    "    qpe2.measure(n,n)\n",
    "\n",
    "qpe2.draw()"
   ]
  },
  {
   "cell_type": "code",
   "execution_count": 52,
   "id": "a782384f-5a74-4e5a-b182-29773c3aadd2",
   "metadata": {},
   "outputs": [
    {
     "name": "stderr",
     "output_type": "stream",
     "text": [
      "The PostScript backend does not support transparency; partially transparent artists will be rendered opaque.\n"
     ]
    },
    {
     "data": {
      "image/png": "[encoded data removed]",
      "text/plain": [
       "<Figure size 800x500 with 1 Axes>"
      ]
     },
     "metadata": {},
     "output_type": "display_data"
    }
   ],
   "source": [
    "# Let's see the results!\n",
    "aer_sim = Aer.get_backend('aer_simulator')\n",
    "shots = 5000\n",
    "t_qpe2 = transpile(qpe2, aer_sim)\n",
    "results = aer_sim.run(t_qpe2, shots=shots).result()\n",
    "answer = results.get_counts()\n",
    "\n",
    "# Sort the keys in binary order\n",
    "sorted_keys = sorted(answer.keys(), key=lambda x: int(x, 2))  # Sort by binary value\n",
    "\n",
    "# Reorder counts based on sorted keys\n",
    "sorted_values = [answer[key] for key in sorted_keys]\n",
    "\n",
    "plt.figure(figsize=(8, 5))\n",
    "bars = plt.bar(sorted_keys, sorted_values, color='black', edgecolor='black')\n",
    "\n",
    "# Add count labels on top of each bar\n",
    "for bar in bars:\n",
    "    plt.text(bar.get_x() + bar.get_width()/2,  # x position\n",
    "             bar.get_height(),                 # y position (height of bar)\n",
    "             str(bar.get_height()),            # Text (count value)\n",
    "             ha='center', va='bottom',         # Center alignment\n",
    "             fontsize=10, fontweight='bold')\n",
    "\n",
    "plt.xlabel('Decimal binary')\n",
    "plt.ylabel('Frequency')\n",
    "plt.grid(axis='y', linestyle='--', alpha=0.7)\n",
    "plt.title('Phase measuring 5000 measurements')\n",
    "plt.savefig(\"squares.eps\") \n",
    "# Display the plot\n",
    "plt.show()"
   ]
  },
  {
   "cell_type": "code",
   "execution_count": 53,
   "id": "aa4963c5-e558-4d0a-841b-c755c5a33b89",
   "metadata": {},
   "outputs": [
    {
     "data": {
      "text/html": [
       "<pre style=\"word-wrap: normal;white-space: pre;background: #fff0;line-height: 1.1;font-family: &quot;Courier New&quot;,Courier,monospace\">     ┌───┐                                                            »\n",
       "q_0: ┤ H ├─■──────────────────────────────────────────────────────────»\n",
       "     ├───┤ │                                                          »\n",
       "q_1: ┤ H ├─┼─────────■─────────■──────────────────────────────────────»\n",
       "     ├───┤ │         │         │                                      »\n",
       "q_2: ┤ H ├─┼─────────┼─────────┼─────────■─────────■─────────■────────»\n",
       "     ├───┤ │         │         │         │         │         │        »\n",
       "q_3: ┤ H ├─┼─────────┼─────────┼─────────┼─────────┼─────────┼────────»\n",
       "     ├───┤ │         │         │         │         │         │        »\n",
       "q_4: ┤ H ├─┼─────────┼─────────┼─────────┼─────────┼─────────┼────────»\n",
       "     ├───┤ │P(2π/3)  │P(2π/3)  │P(2π/3)  │P(2π/3)  │P(2π/3)  │P(2π/3) »\n",
       "q_5: ┤ X ├─■─────────■─────────■─────────■─────────■─────────■────────»\n",
       "     └───┘                                                            »\n",
       "c: 5/═════════════════════════════════════════════════════════════════»\n",
       "                                                                      »\n",
       "«                                                                           »\n",
       "«q_0: ──────────────────────────────────────────────────────────────────────»\n",
       "«                                                                           »\n",
       "«q_1: ──────────────────────────────────────────────────────────────────────»\n",
       "«                                                                           »\n",
       "«q_2: ─■────────────────────────────────────────────────────────────────────»\n",
       "«      │                                                                    »\n",
       "«q_3: ─┼─────────■─────────■─────────■─────────■─────────■─────────■────────»\n",
       "«      │         │         │         │         │         │         │        »\n",
       "«q_4: ─┼─────────┼─────────┼─────────┼─────────┼─────────┼─────────┼────────»\n",
       "«      │P(2π/3)  │P(2π/3)  │P(2π/3)  │P(2π/3)  │P(2π/3)  │P(2π/3)  │P(2π/3) »\n",
       "«q_5: ─■─────────■─────────■─────────■─────────■─────────■─────────■────────»\n",
       "«                                                                           »\n",
       "«c: 5/══════════════════════════════════════════════════════════════════════»\n",
       "«                                                                           »\n",
       "«                                                                           »\n",
       "«q_0: ──────────────────────────────────────────────────────────────────────»\n",
       "«                                                                           »\n",
       "«q_1: ──────────────────────────────────────────────────────────────────────»\n",
       "«                                                                           »\n",
       "«q_2: ──────────────────────────────────────────────────────────────────────»\n",
       "«                                                                           »\n",
       "«q_3: ─■─────────■──────────────────────────────────────────────────────────»\n",
       "«      │         │                                                          »\n",
       "«q_4: ─┼─────────┼─────────■─────────■─────────■─────────■─────────■────────»\n",
       "«      │P(2π/3)  │P(2π/3)  │P(2π/3)  │P(2π/3)  │P(2π/3)  │P(2π/3)  │P(2π/3) »\n",
       "«q_5: ─■─────────■─────────■─────────■─────────■─────────■─────────■────────»\n",
       "«                                                                           »\n",
       "«c: 5/══════════════════════════════════════════════════════════════════════»\n",
       "«                                                                           »\n",
       "«                                                                           »\n",
       "«q_0: ──────────────────────────────────────────────────────────────────────»\n",
       "«                                                                           »\n",
       "«q_1: ──────────────────────────────────────────────────────────────────────»\n",
       "«                                                                           »\n",
       "«q_2: ──────────────────────────────────────────────────────────────────────»\n",
       "«                                                                           »\n",
       "«q_3: ──────────────────────────────────────────────────────────────────────»\n",
       "«                                                                           »\n",
       "«q_4: ─■─────────■─────────■─────────■─────────■─────────■─────────■────────»\n",
       "«      │P(2π/3)  │P(2π/3)  │P(2π/3)  │P(2π/3)  │P(2π/3)  │P(2π/3)  │P(2π/3) »\n",
       "«q_5: ─■─────────■─────────■─────────■─────────■─────────■─────────■────────»\n",
       "«                                                                           »\n",
       "«c: 5/══════════════════════════════════════════════════════════════════════»\n",
       "«                                                                           »\n",
       "«                                             ┌──────────┐ ░ ┌─┐            \n",
       "«q_0: ────────────────────────────────────────┤0         ├─░─┤M├────────────\n",
       "«                                             │          │ ░ └╥┘┌─┐         \n",
       "«q_1: ────────────────────────────────────────┤1         ├─░──╫─┤M├─────────\n",
       "«                                             │          │ ░  ║ └╥┘┌─┐      \n",
       "«q_2: ────────────────────────────────────────┤2 IQFT_dg ├─░──╫──╫─┤M├──────\n",
       "«                                             │          │ ░  ║  ║ └╥┘┌─┐   \n",
       "«q_3: ────────────────────────────────────────┤3         ├─░──╫──╫──╫─┤M├───\n",
       "«                                             │          │ ░  ║  ║  ║ └╥┘┌─┐\n",
       "«q_4: ─■─────────■─────────■─────────■────────┤4         ├─░──╫──╫──╫──╫─┤M├\n",
       "«      │P(2π/3)  │P(2π/3)  │P(2π/3)  │P(2π/3) └──────────┘ ░  ║  ║  ║  ║ └╥┘\n",
       "«q_5: ─■─────────■─────────■─────────■─────────────────────░──╫──╫──╫──╫──╫─\n",
       "«                                                          ░  ║  ║  ║  ║  ║ \n",
       "«c: 5/════════════════════════════════════════════════════════╩══╩══╩══╩══╩═\n",
       "«                                                             0  1  2  3  4 </pre>"
      ],
      "text/plain": [
       "     ┌───┐                                                            »\n",
       "q_0: ┤ H ├─■──────────────────────────────────────────────────────────»\n",
       "     ├───┤ │                                                          »\n",
       "q_1: ┤ H ├─┼─────────■─────────■──────────────────────────────────────»\n",
       "     ├───┤ │         │         │                                      »\n",
       "q_2: ┤ H ├─┼─────────┼─────────┼─────────■─────────■─────────■────────»\n",
       "     ├───┤ │         │         │         │         │         │        »\n",
       "q_3: ┤ H ├─┼─────────┼─────────┼─────────┼─────────┼─────────┼────────»\n",
       "     ├───┤ │         │         │         │         │         │        »\n",
       "q_4: ┤ H ├─┼─────────┼─────────┼─────────┼─────────┼─────────┼────────»\n",
       "     ├───┤ │P(2π/3)  │P(2π/3)  │P(2π/3)  │P(2π/3)  │P(2π/3)  │P(2π/3) »\n",
       "q_5: ┤ X ├─■─────────■─────────■─────────■─────────■─────────■────────»\n",
       "     └───┘                                                            »\n",
       "c: 5/═════════════════════════════════════════════════════════════════»\n",
       "                                                                      »\n",
       "«                                                                           »\n",
       "«q_0: ──────────────────────────────────────────────────────────────────────»\n",
       "«                                                                           »\n",
       "«q_1: ──────────────────────────────────────────────────────────────────────»\n",
       "«                                                                           »\n",
       "«q_2: ─■────────────────────────────────────────────────────────────────────»\n",
       "«      │                                                                    »\n",
       "«q_3: ─┼─────────■─────────■─────────■─────────■─────────■─────────■────────»\n",
       "«      │         │         │         │         │         │         │        »\n",
       "«q_4: ─┼─────────┼─────────┼─────────┼─────────┼─────────┼─────────┼────────»\n",
       "«      │P(2π/3)  │P(2π/3)  │P(2π/3)  │P(2π/3)  │P(2π/3)  │P(2π/3)  │P(2π/3) »\n",
       "«q_5: ─■─────────■─────────■─────────■─────────■─────────■─────────■────────»\n",
       "«                                                                           »\n",
       "«c: 5/══════════════════════════════════════════════════════════════════════»\n",
       "«                                                                           »\n",
       "«                                                                           »\n",
       "«q_0: ──────────────────────────────────────────────────────────────────────»\n",
       "«                                                                           »\n",
       "«q_1: ──────────────────────────────────────────────────────────────────────»\n",
       "«                                                                           »\n",
       "«q_2: ──────────────────────────────────────────────────────────────────────»\n",
       "«                                                                           »\n",
       "«q_3: ─■─────────■──────────────────────────────────────────────────────────»\n",
       "«      │         │                                                          »\n",
       "«q_4: ─┼─────────┼─────────■─────────■─────────■─────────■─────────■────────»\n",
       "«      │P(2π/3)  │P(2π/3)  │P(2π/3)  │P(2π/3)  │P(2π/3)  │P(2π/3)  │P(2π/3) »\n",
       "«q_5: ─■─────────■─────────■─────────■─────────■─────────■─────────■────────»\n",
       "«                                                                           »\n",
       "«c: 5/══════════════════════════════════════════════════════════════════════»\n",
       "«                                                                           »\n",
       "«                                                                           »\n",
       "«q_0: ──────────────────────────────────────────────────────────────────────»\n",
       "«                                                                           »\n",
       "«q_1: ──────────────────────────────────────────────────────────────────────»\n",
       "«                                                                           »\n",
       "«q_2: ──────────────────────────────────────────────────────────────────────»\n",
       "«                                                                           »\n",
       "«q_3: ──────────────────────────────────────────────────────────────────────»\n",
       "«                                                                           »\n",
       "«q_4: ─■─────────■─────────■─────────■─────────■─────────■─────────■────────»\n",
       "«      │P(2π/3)  │P(2π/3)  │P(2π/3)  │P(2π/3)  │P(2π/3)  │P(2π/3)  │P(2π/3) »\n",
       "«q_5: ─■─────────■─────────■─────────■─────────■─────────■─────────■────────»\n",
       "«                                                                           »\n",
       "«c: 5/══════════════════════════════════════════════════════════════════════»\n",
       "«                                                                           »\n",
       "«                                             ┌──────────┐ ░ ┌─┐            \n",
       "«q_0: ────────────────────────────────────────┤0         ├─░─┤M├────────────\n",
       "«                                             │          │ ░ └╥┘┌─┐         \n",
       "«q_1: ────────────────────────────────────────┤1         ├─░──╫─┤M├─────────\n",
       "«                                             │          │ ░  ║ └╥┘┌─┐      \n",
       "«q_2: ────────────────────────────────────────┤2 IQFT_dg ├─░──╫──╫─┤M├──────\n",
       "«                                             │          │ ░  ║  ║ └╥┘┌─┐   \n",
       "«q_3: ────────────────────────────────────────┤3         ├─░──╫──╫──╫─┤M├───\n",
       "«                                             │          │ ░  ║  ║  ║ └╥┘┌─┐\n",
       "«q_4: ─■─────────■─────────■─────────■────────┤4         ├─░──╫──╫──╫──╫─┤M├\n",
       "«      │P(2π/3)  │P(2π/3)  │P(2π/3)  │P(2π/3) └──────────┘ ░  ║  ║  ║  ║ └╥┘\n",
       "«q_5: ─■─────────■─────────■─────────■─────────────────────░──╫──╫──╫──╫──╫─\n",
       "«                                                          ░  ║  ║  ║  ║  ║ \n",
       "«c: 5/════════════════════════════════════════════════════════╩══╩══╩══╩══╩═\n",
       "«                                                             0  1  2  3  4 "
      ]
     },
     "execution_count": 53,
     "metadata": {},
     "output_type": "execute_result"
    }
   ],
   "source": [
    "# Create and set up circuit\n",
    "qpe3 = QuantumCircuit(6, 5)\n",
    "\n",
    "# Apply H-Gates to counting qubits:\n",
    "for qubit in range(5):\n",
    "    qpe3.h(qubit)\n",
    "\n",
    "# Prepare our eigenstate |psi>:\n",
    "qpe3.x(5)\n",
    "\n",
    "# Do the controlled-U operations:\n",
    "angle = 2*math.pi/3\n",
    "repetitions = 1\n",
    "for counting_qubit in range(5):\n",
    "    for i in range(repetitions):\n",
    "        qpe3.cp(angle, counting_qubit, 5);\n",
    "    repetitions *= 2\n",
    "\n",
    "# Do the inverse QFT:\n",
    "qpe3 = qpe3.compose(QFT(5, inverse=True), range(5))\n",
    "\n",
    "# Measure of course!\n",
    "qpe3.barrier()\n",
    "for n in range(5):\n",
    "    qpe3.measure(n,n)\n",
    "\n",
    "qpe3.draw()"
   ]
  },
  {
   "cell_type": "code",
   "execution_count": 64,
   "id": "4bc7de4a-1917-4a76-b53b-64ea5326a2dc",
   "metadata": {},
   "outputs": [
    {
     "name": "stderr",
     "output_type": "stream",
     "text": [
      "The PostScript backend does not support transparency; partially transparent artists will be rendered opaque.\n"
     ]
    },
    {
     "data": {
      "image/png": "[encoded data removed]",
      "text/plain": [
       "<Figure size 800x500 with 1 Axes>"
      ]
     },
     "metadata": {},
     "output_type": "display_data"
    }
   ],
   "source": [
    "# Let's see the results!\n",
    "aer_sim = Aer.get_backend('aer_simulator')\n",
    "shots = 5000\n",
    "t_qpe3 = transpile(qpe3, aer_sim)\n",
    "results = aer_sim.run(t_qpe3, shots=shots).result()\n",
    "answer = results.get_counts()\n",
    "\n",
    "# Sort the keys in binary order\n",
    "sorted_keys = sorted(answer.keys(), key=lambda x: int(x, 2))  # Sort by binary value\n",
    "\n",
    "# Reorder counts based on sorted keys\n",
    "sorted_values = [answer[key] for key in sorted_keys]\n",
    "formatted_labels = ['\\n'.join(list(key)) for key in sorted_keys]\n",
    "\n",
    "plt.figure(figsize=(8, 5))\n",
    "bars = plt.bar(sorted_keys, sorted_values, color='black', edgecolor='black')\n",
    "\n",
    "# Add count labels on top of each bar\n",
    "for bar in bars:\n",
    "    plt.text(bar.get_x() + bar.get_width()/2,  # x position\n",
    "             bar.get_height(),                 # y position (height of bar)\n",
    "             str(bar.get_height()),            # Text (count value)\n",
    "             ha='center', va='bottom',         # Center alignment\n",
    "             fontsize=10, fontweight='bold')\n",
    "\n",
    "plt.xticks(ticks=range(len(sorted_keys)), labels=formatted_labels, fontsize=10)\n",
    "plt.xlabel('Decimal binary')\n",
    "plt.ylabel('Frequency')\n",
    "plt.grid(axis='y', linestyle='--', alpha=0.7)\n",
    "plt.title('Phase measuring 5000 measurements')\n",
    "plt.savefig(\"squares.eps\", format='eps', transparent=False, bbox_inches='tight') \n",
    "# Display the plot\n",
    "plt.show()"
   ]
  }
 ],
 "metadata": {
  "kernelspec": {
   "display_name": "Python 3 (ipykernel)",
   "language": "python",
   "name": "python3"
  },
  "language_info": {
   "codemirror_mode": {
    "name": "ipython",
    "version": 3
   },
   "file_extension": ".py",
   "mimetype": "text/x-python",
   "name": "python",
   "nbconvert_exporter": "python",
   "pygments_lexer": "ipython3",
   "version": "3.8.18"
  }
 },
 "nbformat": 4,
 "nbformat_minor": 5
}
